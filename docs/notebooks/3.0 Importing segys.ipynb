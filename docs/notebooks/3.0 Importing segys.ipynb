{
 "cells": [
  {
   "attachments": {},
   "cell_type": "markdown",
   "id": "ff884a71-7670-4390-87f6-e7aad82180bb",
   "metadata": {},
   "source": [
    "# Introduction\n",
    "\n",
    "The main seismic data file formats we see in our processing center today are SEGY and SEGD files. Both are standards developed by the Society of Exploration Geophsyics (SEG) for storing and exchanging geophysical data.  Both formats are open standards, with the standards published on the [SEG website](https://library.seg.org/seg-technical-standards).\n",
    "\n",
    "SEGY is up to revision 2.0, and SEGD is up to revision 3.1. However in reality we mostly see SEGY rev 1.0, and only recently have we started to see SEGD rev. 2.1.\n",
    "\n",
    "[SEGY rev 1.0](https://library.seg.org/pb-assets/technical-standards/seg_y_rev1-1686080991247.pdf)\n",
    "\n",
    "[SEGD rev 2.1](https://library.seg.org/pb-assets/technical-standards/seg_d_rev2.1-1686080991997.pdf)\n",
    "\n",
    "\n",
    "This is partially due to both of these standards originally being written for magnetic tape storage in the 1970s. Both formats are now regularly stored on disk, however magnetic tape is still commonly used in the industry as it's robust and relatively cheap.  As the code to write to tape is often legacy and the motivation to update existing hardware not particularly urgent, this tends to lead to these old revisions hanging on. If you're ever in doubt what version SEGY or SEGD to make, an older version is safer (and simpler!).\n",
    "\n",
    "There is another issue caused by the fact these standards are over 40 years old, and that is that the data typing within the file formats are often 40 years old as well. For example [BCD](https://en.wikipedia.org/wiki/Binary-coded_decimal) (4 bit binary coded decimal) is used to store values in SEGD headers. \n",
    "\n",
    "Another more problematic issue is the trace data in SEGY files is commonly stored as IBM floats instead of IEEE floats, and python/numpy has no native support for IBM floating point numbers. Conversions are available, e.g. https://pypi.org/project/ibm2ieee/ \n",
    "\n",
    "There's a good paper on some of the issues [here.](https://www.crewes.org/Documents/ResearchReports/2017/CRR201725.pdf)\n",
    "\n",
    "Despite the SEGY standard now handling IEEE floats it is common practice to write IBM floats as well, which requires an ieee2ibm algorithm, which is not so easily found in python.\n",
    "\n",
    "Pyseis has native python implementations of both, but unless you're into vectorised bit shifting, admire and move on.\n",
    "\n",
    "The downside of all of this is python in general and numpy specifically cannot play directly with SEGY and SEGD formats. Instead these formats need to be converted to a more numpy friendly format - e.g. the seismic unix (SU) format.\n",
    "\n",
    "\n",
    "\n",
    "\n"
   ]
  },
  {
   "cell_type": "markdown",
   "id": "8d6a4ba7-c0ac-461a-a549-ca0659f9b67d",
   "metadata": {},
   "source": [
    "# The SEGY Format\n",
    "\n",
    "The SEGY format is relativelty simple, except for the presence of IBM floats.\n",
    "\n",
    "Each SEGY file consists of a 3200 byte EBCDIC text header, which is an 8-bit non-ascii text encoding used by IBM in the 1960s. Go figure. But luckily python can handle EBCDIC strings,  and the function to read the EBCDIC header is simply the following\n",
    "00)\n"
   ]
  },
  {
   "cell_type": "code",
   "execution_count": null,
   "id": "61188f08-03d3-4452-a3f1-e9f67c8effb2",
   "metadata": {},
   "outputs": [],
   "source": [
    "def readEBCDIC(_file):\n",
    "    with open(file=_file, mode=\"rt\", encoding=\"cp500\") as f:\n",
    "        f.seek(0)\n",
    "        self.params[\"EBCDIC\"] = f.read(3200)\n"
   ]
  },
  {
   "cell_type": "code",
   "execution_count": null,
   "id": "b2dde138-551f-4a35-a8e1-50006d637eba",
   "metadata": {},
   "outputs": [],
   "source": []
  }
 ],
 "metadata": {
  "kernelspec": {
   "display_name": "Python 3 (ipykernel)",
   "language": "python",
   "name": "python3"
  },
  "language_info": {
   "codemirror_mode": {
    "name": "ipython",
    "version": 3
   },
   "file_extension": ".py",
   "mimetype": "text/x-python",
   "name": "python",
   "nbconvert_exporter": "python",
   "pygments_lexer": "ipython3",
   "version": "3.9.13"
  }
 },
 "nbformat": 4,
 "nbformat_minor": 5
}
